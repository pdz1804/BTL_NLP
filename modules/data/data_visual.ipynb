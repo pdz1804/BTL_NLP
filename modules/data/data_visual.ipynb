{
 "cells": [
  {
   "cell_type": "markdown",
   "id": "e62c2291",
   "metadata": {},
   "source": [
    "# Libraries"
   ]
  },
  {
   "cell_type": "code",
   "execution_count": 47,
   "id": "1aeef17c",
   "metadata": {},
   "outputs": [],
   "source": [
    "from datasets import load_dataset, concatenate_datasets\n",
    "import json\n",
    "import matplotlib.pyplot as plt"
   ]
  },
  {
   "cell_type": "markdown",
   "id": "0e34617e",
   "metadata": {},
   "source": [
    "Configurations"
   ]
  },
  {
   "cell_type": "code",
   "execution_count": 36,
   "id": "b65cd3a5",
   "metadata": {},
   "outputs": [
    {
     "name": "stdout",
     "output_type": "stream",
     "text": [
      "{\n",
      "  \"squad\": {\n",
      "    \"train_portion\": 0.8,\n",
      "    \"val_portion\": 1.0\n",
      "  },\n",
      "  \"wmt16_en_de\": {\n",
      "    \"train_portion\": 0.03,\n",
      "    \"val_portion\": 1.0\n",
      "  },\n",
      "  \"imdb\": {\n",
      "    \"train_portion\": 0.8,\n",
      "    \"val_portion\": 1.0\n",
      "  }\n",
      "}\n"
     ]
    }
   ],
   "source": [
    "with open('config.json', 'r', encoding='utf-8') as file:\n",
    "    data_config = json.load(file)\n",
    "\n",
    "print(json.dumps(data_config, indent=2, ensure_ascii=False))"
   ]
  },
  {
   "cell_type": "markdown",
   "id": "d74d2d75",
   "metadata": {},
   "source": [
    "# Squad Dataset"
   ]
  },
  {
   "cell_type": "code",
   "execution_count": 16,
   "id": "aaa8f010",
   "metadata": {},
   "outputs": [
    {
     "name": "stdout",
     "output_type": "stream",
     "text": [
      "Train samples: 87599.\n",
      "Validation samples: 10570.\n"
     ]
    }
   ],
   "source": [
    "squad_dataset = load_dataset('squad')\n",
    "\n",
    "print(f\"Train samples: {len(squad_dataset['train'])}.\")\n",
    "print(f\"Validation samples: {len(squad_dataset['validation'])}.\")"
   ]
  },
  {
   "cell_type": "code",
   "execution_count": 17,
   "id": "e8e26488",
   "metadata": {},
   "outputs": [
    {
     "name": "stdout",
     "output_type": "stream",
     "text": [
      "{\n",
      "  \"id\": \"5733be284776f41900661182\",\n",
      "  \"title\": \"University_of_Notre_Dame\",\n",
      "  \"context\": \"Architecturally, the school has a Catholic character. Atop the Main Building's gold dome is a golden statue of the Virgin Mary. Immediately in front of the Main Building and facing it, is a copper statue of Christ with arms upraised with the legend \\\"Venite Ad Me Omnes\\\". Next to the Main Building is the Basilica of the Sacred Heart. Immediately behind the basilica is the Grotto, a Marian place of prayer and reflection. It is a replica of the grotto at Lourdes, France where the Virgin Mary reputedly appeared to Saint Bernadette Soubirous in 1858. At the end of the main drive (and in a direct line that connects through 3 statues and the Gold Dome), is a simple, modern stone statue of Mary.\",\n",
      "  \"question\": \"To whom did the Virgin Mary allegedly appear in 1858 in Lourdes France?\",\n",
      "  \"answers\": {\n",
      "    \"text\": [\n",
      "      \"Saint Bernadette Soubirous\"\n",
      "    ],\n",
      "    \"answer_start\": [\n",
      "      515\n",
      "    ]\n",
      "  }\n",
      "}\n"
     ]
    }
   ],
   "source": [
    "print(json.dumps(squad_dataset['train'][0], indent=2, ensure_ascii=False))"
   ]
  },
  {
   "cell_type": "code",
   "execution_count": 18,
   "id": "efd944ce",
   "metadata": {},
   "outputs": [
    {
     "name": "stdout",
     "output_type": "stream",
     "text": [
      "Squad training samples: 56063.\n",
      "Squad test samples: 14016.\n",
      "Squad validation samples: 10570.\n",
      "\n"
     ]
    }
   ],
   "source": [
    "squad_dataset['train'] = squad_dataset['train'].select(range(int(data_config['squad']['train_portion'] * len(squad_dataset['train']))))\n",
    "squad_dataset['validation'] = squad_dataset['validation'].select(range(int(data_config['squad']['val_portion'] * len(squad_dataset['validation']))))\n",
    "\n",
    "split_squad = squad_dataset['train'].train_test_split(test_size=0.2, seed=42)\n",
    "\n",
    "squad_train = split_squad['train']\n",
    "squad_test  = split_squad['test']\n",
    "squad_val   = squad_dataset['validation']\n",
    "\n",
    "print(f\"\"\"Squad training samples: {len(squad_train)}.\n",
    "Squad test samples: {len(squad_test)}.\n",
    "Squad validation samples: {len(squad_val)}.\n",
    "\"\"\")"
   ]
  },
  {
   "cell_type": "code",
   "execution_count": null,
   "id": "e20077ff",
   "metadata": {},
   "outputs": [
    {
     "data": {
      "image/png": "[encoded data removed]",
      "text/plain": [
       "<Figure size 600x400 with 1 Axes>"
      ]
     },
     "metadata": {},
     "output_type": "display_data"
    }
   ],
   "source": [
    "sizes_squad = {\n",
    "    'train': len(squad_train),\n",
    "    'val': len(squad_val),\n",
    "    'test': len(squad_test)\n",
    "}\n",
    "\n",
    "# Plot\n",
    "plt.figure(figsize=(6, 4))\n",
    "plt.bar(sizes_squad.keys(), sizes_squad.values(), color=['skyblue', 'lightgreen', 'salmon'])\n",
    "plt.title('SQUAD Dataset Distribution')\n",
    "plt.xlabel('Dataset')\n",
    "plt.ylabel('Number of QA Pairs')\n",
    "plt.tight_layout()\n",
    "plt.show()"
   ]
  },
  {
   "cell_type": "markdown",
   "id": "fd4d8b26",
   "metadata": {},
   "source": [
    "# WMT16-En-De Dataset"
   ]
  },
  {
   "cell_type": "code",
   "execution_count": 37,
   "id": "62dd5181",
   "metadata": {},
   "outputs": [
    {
     "name": "stdout",
     "output_type": "stream",
     "text": [
      "Train samples: 4548885.\n",
      "Validation samples: 2169.\n"
     ]
    }
   ],
   "source": [
    "wmt_dataset = load_dataset('wmt16', 'de-en')\n",
    "\n",
    "print(f\"Train samples: {len(wmt_dataset['train'])}.\")\n",
    "print(f\"Validation samples: {len(wmt_dataset['validation'])}.\")"
   ]
  },
  {
   "cell_type": "code",
   "execution_count": 38,
   "id": "948369be",
   "metadata": {},
   "outputs": [
    {
     "name": "stdout",
     "output_type": "stream",
     "text": [
      "{\n",
      "  \"translation\": {\n",
      "    \"de\": \"Die Premierminister Indiens und Japans trafen sich in Tokio.\",\n",
      "    \"en\": \"India and Japan prime ministers meet in Tokyo\"\n",
      "  }\n",
      "}\n"
     ]
    }
   ],
   "source": [
    "print(json.dumps(wmt_dataset['validation'][0], indent=2, ensure_ascii=False))"
   ]
  },
  {
   "cell_type": "code",
   "execution_count": 39,
   "id": "a759b1c2",
   "metadata": {},
   "outputs": [
    {
     "name": "stdout",
     "output_type": "stream",
     "text": [
      "Squad training samples: 109172.\n",
      "Squad test samples: 27294.\n",
      "Squad validation samples: 10570.\n",
      "\n"
     ]
    }
   ],
   "source": [
    "wmt_dataset['train'] = wmt_dataset['train'].select(range(int(data_config['wmt16_en_de']['train_portion'] * len(wmt_dataset['train']))))\n",
    "wmt_dataset['validation'] = wmt_dataset['validation'].select(range(int(data_config['wmt16_en_de']['val_portion'] * len(wmt_dataset['validation']))))\n",
    "\n",
    "split_wmt = wmt_dataset['train'].train_test_split(test_size=0.2, seed=42)\n",
    "\n",
    "wmt_train = split_wmt['train']\n",
    "wmt_test  = split_wmt['test']\n",
    "wmt_val   = squad_dataset['validation']\n",
    "\n",
    "print(f\"\"\"Squad training samples: {len(wmt_train)}.\n",
    "Squad test samples: {len(wmt_test)}.\n",
    "Squad validation samples: {len(wmt_val)}.\n",
    "\"\"\")"
   ]
  },
  {
   "cell_type": "code",
   "execution_count": 42,
   "id": "7a6f6a44",
   "metadata": {},
   "outputs": [
    {
     "data": {
      "image/png": "[encoded data removed]",
      "text/plain": [
       "<Figure size 600x400 with 1 Axes>"
      ]
     },
     "metadata": {},
     "output_type": "display_data"
    }
   ],
   "source": [
    "sizes_wmt = {\n",
    "    'train': len(wmt_train),\n",
    "    'val': len(wmt_val),\n",
    "    'test': len(wmt_test)\n",
    "}\n",
    "\n",
    "# Plot\n",
    "plt.figure(figsize=(6, 4))\n",
    "plt.bar(sizes_wmt.keys(), sizes_wmt.values(), color=['skyblue', 'lightgreen', 'salmon'])\n",
    "plt.title('WMT16-En-De Dataset Distribution')\n",
    "plt.xlabel('Dataset')\n",
    "plt.ylabel('Number of Translation Pairs')\n",
    "plt.tight_layout()\n",
    "plt.show()"
   ]
  },
  {
   "cell_type": "markdown",
   "id": "df7b6ef7",
   "metadata": {},
   "source": [
    "# IMDB Dataset"
   ]
  },
  {
   "cell_type": "code",
   "execution_count": 50,
   "id": "85d1c820",
   "metadata": {},
   "outputs": [
    {
     "name": "stdout",
     "output_type": "stream",
     "text": [
      "Train samples: 37500.\n",
      "Validation samples: 12500.\n"
     ]
    }
   ],
   "source": [
    "imdb_dataset = load_dataset('imdb')\n",
    "\n",
    "half_index = len(imdb_dataset['test']) // 2\n",
    "imdb_dataset = {\n",
    "    'train': concatenate_datasets([imdb_dataset['train'], imdb_dataset['test'].select(range(half_index, len(imdb_dataset['test'])))]),\n",
    "    'validation': imdb_dataset['test'].select(range(half_index))\n",
    "}\n",
    "\n",
    "print(f\"Train samples: {len(imdb_dataset['train'])}.\")\n",
    "print(f\"Validation samples: {len(imdb_dataset['validation'])}.\")"
   ]
  },
  {
   "cell_type": "code",
   "execution_count": 51,
   "id": "59128c5d",
   "metadata": {},
   "outputs": [
    {
     "name": "stdout",
     "output_type": "stream",
     "text": [
      "{\n",
      "  \"text\": \"I love sci-fi and am willing to put up with a lot. Sci-fi movies/TV are usually underfunded, under-appreciated and misunderstood. I tried to like this, I really did, but it is to good TV sci-fi as Babylon 5 is to Star Trek (the original). Silly prosthetics, cheap cardboard sets, stilted dialogues, CG that doesn't match the background, and painfully one-dimensional characters cannot be overcome with a 'sci-fi' setting. (I'm sure there are those of you out there who think Babylon 5 is good sci-fi TV. It's not. It's clichéd and uninspiring.) While US viewers might like emotion and character development, sci-fi is a genre that does not take itself seriously (cf. Star Trek). It may treat important issues, yet not as a serious philosophy. It's really difficult to care about the characters here as they are not simply foolish, just missing a spark of life. Their actions and reactions are wooden and predictable, often painful to watch. The makers of Earth KNOW it's rubbish as they have to always say \\\"Gene Roddenberry's Earth...\\\" otherwise people would not continue watching. Roddenberry's ashes must be turning in their orbit as this dull, cheap, poorly edited (watching it without advert breaks really brings this home) trudging Trabant of a show lumbers into space. Spoiler. So, kill off a main character. And then bring him back as another actor. Jeeez! Dallas all over again.\",\n",
      "  \"label\": 0\n",
      "}\n"
     ]
    }
   ],
   "source": [
    "print(json.dumps(imdb_dataset['validation'][0], indent=2, ensure_ascii=False))"
   ]
  },
  {
   "cell_type": "code",
   "execution_count": 52,
   "id": "d13b23f9",
   "metadata": {},
   "outputs": [
    {
     "name": "stdout",
     "output_type": "stream",
     "text": [
      "Squad training samples: 24000.\n",
      "Squad test samples: 6000.\n",
      "Squad validation samples: 12500.\n",
      "\n"
     ]
    }
   ],
   "source": [
    "imdb_dataset['train'] = imdb_dataset['train'].select(range(int(data_config['imdb']['train_portion'] * len(imdb_dataset['train']))))\n",
    "imdb_dataset['validation'] = imdb_dataset['validation'].select(range(int(data_config['imdb']['val_portion'] * len(imdb_dataset['validation']))))\n",
    "\n",
    "split_imdb = imdb_dataset['train'].train_test_split(test_size=0.2, seed=42)\n",
    "\n",
    "imdb_train = split_imdb['train']\n",
    "imdb_test  = split_imdb['test']\n",
    "imdb_val   = imdb_dataset['validation']\n",
    "\n",
    "print(f\"\"\"Squad training samples: {len(imdb_train)}.\n",
    "Squad test samples: {len(imdb_test)}.\n",
    "Squad validation samples: {len(imdb_val)}.\n",
    "\"\"\")"
   ]
  },
  {
   "cell_type": "code",
   "execution_count": 53,
   "id": "ff72656f",
   "metadata": {},
   "outputs": [
    {
     "data": {
      "image/png": "[encoded data removed]",
      "text/plain": [
       "<Figure size 600x400 with 1 Axes>"
      ]
     },
     "metadata": {},
     "output_type": "display_data"
    }
   ],
   "source": [
    "sizes_imdb = {\n",
    "    'train': len(imdb_train),\n",
    "    'val': len(imdb_val),\n",
    "    'test': len(imdb_test)\n",
    "}\n",
    "\n",
    "# Plot\n",
    "plt.figure(figsize=(6, 4))\n",
    "plt.bar(sizes_imdb.keys(), sizes_imdb.values(), color=['skyblue', 'lightgreen', 'salmon'])\n",
    "plt.title('WMT16-En-De Dataset Distribution')\n",
    "plt.xlabel('Dataset')\n",
    "plt.ylabel('Number of Translation Pairs')\n",
    "plt.tight_layout()\n",
    "plt.show()"
   ]
  }
 ],
 "metadata": {
  "kernelspec": {
   "display_name": "Python 3",
   "language": "python",
   "name": "python3"
  },
  "language_info": {
   "codemirror_mode": {
    "name": "ipython",
    "version": 3
   },
   "file_extension": ".py",
   "mimetype": "text/x-python",
   "name": "python",
   "nbconvert_exporter": "python",
   "pygments_lexer": "ipython3",
   "version": "3.11.2"
  }
 },
 "nbformat": 4,
 "nbformat_minor": 5
}
