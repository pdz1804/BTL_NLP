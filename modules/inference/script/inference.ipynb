{
 "cells": [
  {
   "cell_type": "markdown",
   "id": "d36da661",
   "metadata": {},
   "source": [
    "# Load Libraries"
   ]
  },
  {
   "cell_type": "code",
   "execution_count": null,
   "id": "eb66a904",
   "metadata": {},
   "outputs": [],
   "source": [
    "!nvidia-smi"
   ]
  },
  {
   "cell_type": "code",
   "execution_count": null,
   "id": "f6323340",
   "metadata": {},
   "outputs": [],
   "source": [
    "# For finetuning\n",
    "import os\n",
    "import torch\n",
    "\n",
    "# For loading finetuned model\n",
    "from modules.train.trainer import get_model_tokenizer"
   ]
  },
  {
   "cell_type": "code",
   "execution_count": null,
   "id": "31ba5d8a",
   "metadata": {},
   "outputs": [],
   "source": [
    "device = torch.device('cuda' if torch.cuda.is_available() else 'cpu')\n",
    "print(f'Using device: {device}.')"
   ]
  },
  {
   "cell_type": "markdown",
   "id": "cbe46bd1",
   "metadata": {},
   "source": [
    "# Inference Model"
   ]
  },
  {
   "cell_type": "markdown",
   "id": "2824c674",
   "metadata": {},
   "source": [
    "## Configure Model"
   ]
  },
  {
   "cell_type": "code",
   "execution_count": null,
   "id": "7bf0a3d3",
   "metadata": {},
   "outputs": [],
   "source": [
    "# List of implemented methods\n",
    "models   = ['t5-base', 'bart-base', 'gpt2']\n",
    "datasets = ['squad', 'wmt16_en_de', 'imdb']\n",
    "finetunes = ['full', 'lora', 'adapters']\n",
    "\n",
    "# Selecting index\n",
    "model, dataset, finetune = 0, 0, 0"
   ]
  },
  {
   "cell_type": "code",
   "execution_count": null,
   "id": "b7eab043",
   "metadata": {},
   "outputs": [],
   "source": [
    "task = {\n",
    "    \"squad\": \"qa\",\n",
    "    \"wmt16_en_de\": \"translation\",\n",
    "    \"imdb\": \"textsentiment\"\n",
    "}\n",
    "\n",
    "model_path = f'models/ft-{models[model]}-{finetunes[finetune]}-{task[datasets[dataset]]}'"
   ]
  },
  {
   "cell_type": "markdown",
   "id": "5d279c99",
   "metadata": {},
   "source": [
    "## Testing Generate"
   ]
  },
  {
   "cell_type": "code",
   "execution_count": null,
   "id": "1ed230cc",
   "metadata": {},
   "outputs": [],
   "source": [
    "# Load finetuned model\n",
    "model, tokenizer = get_model_tokenizer(model_path, device)"
   ]
  },
  {
   "cell_type": "code",
   "execution_count": null,
   "id": "731d852c",
   "metadata": {},
   "outputs": [],
   "source": [
    "def generate_output(input, max_length=512):\n",
    "    input_text = input\n",
    "    inputs = tokenizer.encode(input_text, return_tensors=\"pt\", max_length=max_length, truncation=True)\n",
    "\n",
    "    with torch.no_grad():\n",
    "        outputs = model.generate(inputs, max_length=64, num_beams=4, early_stopping=True)\n",
    "\n",
    "    answer = tokenizer.decode(outputs[0], skip_special_tokens=True)\n",
    "    return answer"
   ]
  }
 ],
 "metadata": {
  "language_info": {
   "name": "python"
  }
 },
 "nbformat": 4,
 "nbformat_minor": 5
}
