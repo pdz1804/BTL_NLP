{
 "cells": [
  {
   "cell_type": "markdown",
   "id": "b879e035",
   "metadata": {},
   "source": [
    "# Load Libraries"
   ]
  },
  {
   "cell_type": "code",
   "execution_count": null,
   "id": "4ac90c93",
   "metadata": {},
   "outputs": [],
   "source": [
    "!nvidia-smi"
   ]
  },
  {
   "cell_type": "code",
   "execution_count": null,
   "id": "380bb35e",
   "metadata": {},
   "outputs": [],
   "source": [
    "# For finetuning\n",
    "import os\n",
    "import torch"
   ]
  },
  {
   "cell_type": "markdown",
   "id": "38f156c8",
   "metadata": {},
   "source": [
    "# Configure Finetune Parameters"
   ]
  },
  {
   "cell_type": "code",
   "execution_count": null,
   "id": "434be596",
   "metadata": {},
   "outputs": [],
   "source": [
    "# List of implemented methods\n",
    "models   = ['t5-base', 'bart-base', 'prophetnet-large-uncased']\n",
    "datasets = ['squad', 'wmt16_en_de', 'imdb']\n",
    "finetunes = ['full', 'lora', 'adapters']\n",
    "\n",
    "# Selecting index\n",
    "model, dataset, finetune = 0, 0, 2"
   ]
  },
  {
   "cell_type": "markdown",
   "id": "045e25b7",
   "metadata": {},
   "source": [
    "## Saved Directory for Finetuned Model"
   ]
  },
  {
   "cell_type": "code",
   "execution_count": null,
   "id": "8432614a",
   "metadata": {},
   "outputs": [],
   "source": [
    "task = {\n",
    "    \"squad\": \"qa\",\n",
    "    \"wmt16_en_de\": \"translation\",\n",
    "    \"imdb\": \"textsentiment\"\n",
    "}\n",
    "\n",
    "model_path = f'models/ft-{models[model]}-{finetunes[finetune]}-{task[datasets[dataset]]}'\n",
    "if not os.path.exists('models'):\n",
    "    os.makedirs('models', exist_ok=True)"
   ]
  },
  {
   "cell_type": "markdown",
   "id": "3cb03690",
   "metadata": {},
   "source": [
    "## Hyperparameters"
   ]
  },
  {
   "cell_type": "code",
   "execution_count": null,
   "id": "ab12cc43",
   "metadata": {},
   "outputs": [],
   "source": [
    "num_train_epochs = 1\n",
    "learning_rate = 5e-5\n",
    "weight_decay = 0.02\n",
    "logging_steps = 1"
   ]
  },
  {
   "cell_type": "code",
   "execution_count": null,
   "id": "48019b1a",
   "metadata": {},
   "outputs": [],
   "source": [
    "# device = torch.device('cuda' if torch.cuda.is_available() else 'cpu')\n",
    "device = torch.device('cpu')\n",
    "print(f'Using device: {device}.')"
   ]
  },
  {
   "cell_type": "markdown",
   "id": "abbf3747",
   "metadata": {},
   "source": [
    "# Setup Trainer"
   ]
  },
  {
   "cell_type": "code",
   "execution_count": null,
   "id": "647bd7ef",
   "metadata": {},
   "outputs": [],
   "source": [
    "# Import trainers pipeline\n",
    "from modules.trainer import BaseTrainer\n",
    "\n",
    "\"\"\"\n",
    "Args:\n",
    "    device (torch.device): device used for finetuning.\n",
    "    model (str): name of the model.\n",
    "    dataset (str): name of the dataset.\n",
    "    finetune (str): name of the finetune strategy.\n",
    "\"\"\"\n",
    "\n",
    "# Configure\n",
    "trainer = BaseTrainer(\n",
    "    device=device, \n",
    "    model=models[model], \n",
    "    dataset=datasets[dataset], \n",
    "    finetune=finetunes[finetune], \n",
    "    train_batch_size=4,\n",
    "    eval_batch_size=4,\n",
    "    test=True\n",
    ")\n",
    "\n",
    "# Start training loop\n",
    "trainer.run(\n",
    "    saved_model = model_path,\n",
    "    num_train_epochs = num_train_epochs,\n",
    "    learning_rate = learning_rate,\n",
    "    weight_decay = weight_decay\n",
    ")"
   ]
  }
 ],
 "metadata": {
  "kernelspec": {
   "display_name": "Python 3",
   "language": "python",
   "name": "python3"
  },
  "language_info": {
   "codemirror_mode": {
    "name": "ipython",
    "version": 3
   },
   "file_extension": ".py",
   "mimetype": "text/x-python",
   "name": "python",
   "nbconvert_exporter": "python",
   "pygments_lexer": "ipython3",
   "version": "3.11.2"
  }
 },
 "nbformat": 4,
 "nbformat_minor": 5
}
